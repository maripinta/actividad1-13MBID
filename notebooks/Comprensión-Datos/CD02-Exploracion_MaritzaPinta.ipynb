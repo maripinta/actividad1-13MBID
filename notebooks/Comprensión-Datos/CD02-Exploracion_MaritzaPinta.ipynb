{
 "cells": [
  {
   "cell_type": "markdown",
   "metadata": {},
   "source": [
    "## Máster en Big Data y Data Science\n",
    "\n",
    "### Metodologías de gestión y diseño de proyectos de big data\n",
    "\n",
    "#### AP1 - Exploración de los datos\n",
    "\n",
    "---\n",
    "\n",
    "En esta libreta se realiza un EDA -básico- de los datos del escenario. \n",
    "\n",
    "---"
   ]
  },
  {
   "cell_type": "markdown",
   "metadata": {},
   "source": [
    "##### Importación de librerías"
   ]
  },
  {
   "cell_type": "code",
   "execution_count": null,
   "metadata": {},
   "outputs": [],
   "source": [
    "pip install dtale\n"
   ]
  },
  {
   "cell_type": "code",
   "execution_count": 5,
   "metadata": {},
   "outputs": [],
   "source": [
    "import pandas as pd\n",
    "# from ydata_profiling import ProfileReport\n",
    "import dtale as dt\n",
    "import matplotlib.pyplot as plt\n",
    "import seaborn as sns\n",
    "import warnings\n",
    "warnings.filterwarnings('ignore')"
   ]
  },
  {
   "cell_type": "markdown",
   "metadata": {},
   "source": [
    "----\n",
    "\n",
    "##### Lectura de los datasets"
   ]
  },
  {
   "cell_type": "code",
   "execution_count": 6,
   "metadata": {},
   "outputs": [
    {
     "data": {
      "text/html": [
       "<div>\n",
       "<style scoped>\n",
       "    .dataframe tbody tr th:only-of-type {\n",
       "        vertical-align: middle;\n",
       "    }\n",
       "\n",
       "    .dataframe tbody tr th {\n",
       "        vertical-align: top;\n",
       "    }\n",
       "\n",
       "    .dataframe thead th {\n",
       "        text-align: right;\n",
       "    }\n",
       "</style>\n",
       "<table border=\"1\" class=\"dataframe\">\n",
       "  <thead>\n",
       "    <tr style=\"text-align: right;\">\n",
       "      <th></th>\n",
       "      <th>id_cliente</th>\n",
       "      <th>edad</th>\n",
       "      <th>importe_solicitado</th>\n",
       "      <th>duracion_credito</th>\n",
       "      <th>antiguedad_empleado</th>\n",
       "      <th>situacion_vivienda</th>\n",
       "      <th>ingresos</th>\n",
       "      <th>objetivo_credito</th>\n",
       "      <th>pct_ingreso</th>\n",
       "      <th>tasa_interes</th>\n",
       "      <th>estado_credito</th>\n",
       "      <th>falta_pago</th>\n",
       "    </tr>\n",
       "  </thead>\n",
       "  <tbody>\n",
       "    <tr>\n",
       "      <th>0</th>\n",
       "      <td>713061558.0</td>\n",
       "      <td>22</td>\n",
       "      <td>35000</td>\n",
       "      <td>3</td>\n",
       "      <td>123.0</td>\n",
       "      <td>ALQUILER</td>\n",
       "      <td>59000</td>\n",
       "      <td>PERSONAL</td>\n",
       "      <td>0.59</td>\n",
       "      <td>16.02</td>\n",
       "      <td>1</td>\n",
       "      <td>Y</td>\n",
       "    </tr>\n",
       "    <tr>\n",
       "      <th>1</th>\n",
       "      <td>768805383.0</td>\n",
       "      <td>21</td>\n",
       "      <td>1000</td>\n",
       "      <td>2</td>\n",
       "      <td>5.0</td>\n",
       "      <td>PROPIA</td>\n",
       "      <td>9600</td>\n",
       "      <td>EDUCACIÓN</td>\n",
       "      <td>0.10</td>\n",
       "      <td>11.14</td>\n",
       "      <td>0</td>\n",
       "      <td>N</td>\n",
       "    </tr>\n",
       "    <tr>\n",
       "      <th>2</th>\n",
       "      <td>818770008.0</td>\n",
       "      <td>25</td>\n",
       "      <td>5500</td>\n",
       "      <td>3</td>\n",
       "      <td>1.0</td>\n",
       "      <td>HIPOTECA</td>\n",
       "      <td>9600</td>\n",
       "      <td>SALUD</td>\n",
       "      <td>0.57</td>\n",
       "      <td>12.87</td>\n",
       "      <td>1</td>\n",
       "      <td>N</td>\n",
       "    </tr>\n",
       "    <tr>\n",
       "      <th>3</th>\n",
       "      <td>713982108.0</td>\n",
       "      <td>23</td>\n",
       "      <td>35000</td>\n",
       "      <td>2</td>\n",
       "      <td>4.0</td>\n",
       "      <td>ALQUILER</td>\n",
       "      <td>65500</td>\n",
       "      <td>SALUD</td>\n",
       "      <td>0.53</td>\n",
       "      <td>15.23</td>\n",
       "      <td>1</td>\n",
       "      <td>N</td>\n",
       "    </tr>\n",
       "    <tr>\n",
       "      <th>4</th>\n",
       "      <td>710821833.0</td>\n",
       "      <td>24</td>\n",
       "      <td>35000</td>\n",
       "      <td>4</td>\n",
       "      <td>8.0</td>\n",
       "      <td>ALQUILER</td>\n",
       "      <td>54400</td>\n",
       "      <td>SALUD</td>\n",
       "      <td>0.55</td>\n",
       "      <td>14.27</td>\n",
       "      <td>1</td>\n",
       "      <td>Y</td>\n",
       "    </tr>\n",
       "  </tbody>\n",
       "</table>\n",
       "</div>"
      ],
      "text/plain": [
       "    id_cliente  edad  importe_solicitado  duracion_credito  \\\n",
       "0  713061558.0    22               35000                 3   \n",
       "1  768805383.0    21                1000                 2   \n",
       "2  818770008.0    25                5500                 3   \n",
       "3  713982108.0    23               35000                 2   \n",
       "4  710821833.0    24               35000                 4   \n",
       "\n",
       "   antiguedad_empleado situacion_vivienda  ingresos objetivo_credito  \\\n",
       "0                123.0           ALQUILER     59000         PERSONAL   \n",
       "1                  5.0             PROPIA      9600        EDUCACIÓN   \n",
       "2                  1.0           HIPOTECA      9600            SALUD   \n",
       "3                  4.0           ALQUILER     65500            SALUD   \n",
       "4                  8.0           ALQUILER     54400            SALUD   \n",
       "\n",
       "   pct_ingreso  tasa_interes  estado_credito falta_pago  \n",
       "0         0.59         16.02               1          Y  \n",
       "1         0.10         11.14               0          N  \n",
       "2         0.57         12.87               1          N  \n",
       "3         0.53         15.23               1          N  \n",
       "4         0.55         14.27               1          Y  "
      ]
     },
     "metadata": {},
     "output_type": "display_data"
    }
   ],
   "source": [
    "df_creditos = pd.read_csv(r\"C:\\MARITZA\\MAESTRIA EN CIENCIAS DE DATOS\\DATOS\\datos_creditos.csv\", sep=\";\")\n",
    "display(df_creditos.head(5))"
   ]
  },
  {
   "cell_type": "code",
   "execution_count": 7,
   "metadata": {},
   "outputs": [
    {
     "data": {
      "text/html": [
       "<div>\n",
       "<style scoped>\n",
       "    .dataframe tbody tr th:only-of-type {\n",
       "        vertical-align: middle;\n",
       "    }\n",
       "\n",
       "    .dataframe tbody tr th {\n",
       "        vertical-align: top;\n",
       "    }\n",
       "\n",
       "    .dataframe thead th {\n",
       "        text-align: right;\n",
       "    }\n",
       "</style>\n",
       "<table border=\"1\" class=\"dataframe\">\n",
       "  <thead>\n",
       "    <tr style=\"text-align: right;\">\n",
       "      <th></th>\n",
       "      <th>id_cliente</th>\n",
       "      <th>antiguedad_cliente</th>\n",
       "      <th>estado_civil</th>\n",
       "      <th>estado_cliente</th>\n",
       "      <th>gastos_ult_12m</th>\n",
       "      <th>genero</th>\n",
       "      <th>limite_credito_tc</th>\n",
       "      <th>nivel_educativo</th>\n",
       "      <th>nivel_tarjeta</th>\n",
       "      <th>operaciones_ult_12m</th>\n",
       "      <th>personas_a_cargo</th>\n",
       "    </tr>\n",
       "  </thead>\n",
       "  <tbody>\n",
       "    <tr>\n",
       "      <th>0</th>\n",
       "      <td>713061558.0</td>\n",
       "      <td>36.0</td>\n",
       "      <td>CASADO</td>\n",
       "      <td>ACTIVO</td>\n",
       "      <td>1088.0</td>\n",
       "      <td>M</td>\n",
       "      <td>4010.0</td>\n",
       "      <td>UNIVERSITARIO_COMPLETO</td>\n",
       "      <td>Blue</td>\n",
       "      <td>24.0</td>\n",
       "      <td>2.0</td>\n",
       "    </tr>\n",
       "    <tr>\n",
       "      <th>1</th>\n",
       "      <td>768805383.0</td>\n",
       "      <td>39.0</td>\n",
       "      <td>CASADO</td>\n",
       "      <td>ACTIVO</td>\n",
       "      <td>1144.0</td>\n",
       "      <td>M</td>\n",
       "      <td>12691.0</td>\n",
       "      <td>SECUNDARIO_COMPLETO</td>\n",
       "      <td>Blue</td>\n",
       "      <td>42.0</td>\n",
       "      <td>3.0</td>\n",
       "    </tr>\n",
       "    <tr>\n",
       "      <th>2</th>\n",
       "      <td>818770008.0</td>\n",
       "      <td>44.0</td>\n",
       "      <td>SOLTERO</td>\n",
       "      <td>ACTIVO</td>\n",
       "      <td>1291.0</td>\n",
       "      <td>F</td>\n",
       "      <td>8256.0</td>\n",
       "      <td>UNIVERSITARIO_COMPLETO</td>\n",
       "      <td>Blue</td>\n",
       "      <td>33.0</td>\n",
       "      <td>5.0</td>\n",
       "    </tr>\n",
       "    <tr>\n",
       "      <th>3</th>\n",
       "      <td>713982108.0</td>\n",
       "      <td>36.0</td>\n",
       "      <td>CASADO</td>\n",
       "      <td>ACTIVO</td>\n",
       "      <td>1887.0</td>\n",
       "      <td>M</td>\n",
       "      <td>3418.0</td>\n",
       "      <td>UNIVERSITARIO_COMPLETO</td>\n",
       "      <td>Blue</td>\n",
       "      <td>20.0</td>\n",
       "      <td>3.0</td>\n",
       "    </tr>\n",
       "    <tr>\n",
       "      <th>4</th>\n",
       "      <td>710821833.0</td>\n",
       "      <td>54.0</td>\n",
       "      <td>CASADO</td>\n",
       "      <td>ACTIVO</td>\n",
       "      <td>1314.0</td>\n",
       "      <td>M</td>\n",
       "      <td>9095.0</td>\n",
       "      <td>DESCONOCIDO</td>\n",
       "      <td>Blue</td>\n",
       "      <td>26.0</td>\n",
       "      <td>1.0</td>\n",
       "    </tr>\n",
       "  </tbody>\n",
       "</table>\n",
       "</div>"
      ],
      "text/plain": [
       "    id_cliente  antiguedad_cliente estado_civil estado_cliente  \\\n",
       "0  713061558.0                36.0       CASADO         ACTIVO   \n",
       "1  768805383.0                39.0       CASADO         ACTIVO   \n",
       "2  818770008.0                44.0      SOLTERO         ACTIVO   \n",
       "3  713982108.0                36.0       CASADO         ACTIVO   \n",
       "4  710821833.0                54.0       CASADO         ACTIVO   \n",
       "\n",
       "   gastos_ult_12m genero  limite_credito_tc         nivel_educativo  \\\n",
       "0          1088.0      M             4010.0  UNIVERSITARIO_COMPLETO   \n",
       "1          1144.0      M            12691.0     SECUNDARIO_COMPLETO   \n",
       "2          1291.0      F             8256.0  UNIVERSITARIO_COMPLETO   \n",
       "3          1887.0      M             3418.0  UNIVERSITARIO_COMPLETO   \n",
       "4          1314.0      M             9095.0             DESCONOCIDO   \n",
       "\n",
       "  nivel_tarjeta  operaciones_ult_12m  personas_a_cargo  \n",
       "0          Blue                 24.0               2.0  \n",
       "1          Blue                 42.0               3.0  \n",
       "2          Blue                 33.0               5.0  \n",
       "3          Blue                 20.0               3.0  \n",
       "4          Blue                 26.0               1.0  "
      ]
     },
     "metadata": {},
     "output_type": "display_data"
    }
   ],
   "source": [
    "df_tarjetas = pd.read_csv(r\"C:\\MARITZA\\MAESTRIA EN CIENCIAS DE DATOS\\DATOS\\datos_tarjetas.csv\", sep=\";\")\n",
    "display(df_tarjetas.head(5))"
   ]
  },
  {
   "cell_type": "markdown",
   "metadata": {},
   "source": [
    "----\n",
    "\n",
    "##### Descripción de los datasets"
   ]
  },
  {
   "cell_type": "code",
   "execution_count": 8,
   "metadata": {},
   "outputs": [],
   "source": [
    "def reporte_descripcion_dataset(df):\n",
    "    columnas = df.columns\n",
    "    print(\"Columnas del dataset:\\n\")\n",
    "    for col in columnas:\n",
    "        print(col)\n",
    "    print(f\"\\nCantidad de filas: {df.shape[0]}\")"
   ]
  },
  {
   "cell_type": "code",
   "execution_count": 9,
   "metadata": {},
   "outputs": [
    {
     "name": "stdout",
     "output_type": "stream",
     "text": [
      "Descripción del dataset 'datos_creditos'\n",
      "Columnas del dataset:\n",
      "\n",
      "id_cliente\n",
      "edad\n",
      "importe_solicitado\n",
      "duracion_credito\n",
      "antiguedad_empleado\n",
      "situacion_vivienda\n",
      "ingresos\n",
      "objetivo_credito\n",
      "pct_ingreso\n",
      "tasa_interes\n",
      "estado_credito\n",
      "falta_pago\n",
      "\n",
      "Cantidad de filas: 10127\n"
     ]
    }
   ],
   "source": [
    "print(\"Descripción del dataset 'datos_creditos'\")\n",
    "reporte_descripcion_dataset(df_creditos)"
   ]
  },
  {
   "cell_type": "code",
   "execution_count": 10,
   "metadata": {},
   "outputs": [
    {
     "name": "stdout",
     "output_type": "stream",
     "text": [
      "Descripción del dataset 'datos_tarjetas'\n",
      "Columnas del dataset:\n",
      "\n",
      "id_cliente\n",
      "antiguedad_cliente\n",
      "estado_civil\n",
      "estado_cliente\n",
      "gastos_ult_12m\n",
      "genero\n",
      "limite_credito_tc\n",
      "nivel_educativo\n",
      "nivel_tarjeta\n",
      "operaciones_ult_12m\n",
      "personas_a_cargo\n",
      "\n",
      "Cantidad de filas: 10127\n"
     ]
    }
   ],
   "source": [
    "print(\"Descripción del dataset 'datos_tarjetas'\")\n",
    "reporte_descripcion_dataset(df_tarjetas)"
   ]
  },
  {
   "cell_type": "markdown",
   "metadata": {},
   "source": [
    "----\n",
    "\n",
    "##### Obtención de metadatos"
   ]
  },
  {
   "cell_type": "code",
   "execution_count": 7,
   "metadata": {},
   "outputs": [],
   "source": [
    "# Se usa la librería dtale para poder obtener una vista interactiva de los datos\n",
    "\n",
    "# Dataset: datos_creditos\n",
    "\n",
    "creditos = dt.show(df_creditos)\n",
    "creditos.open_browser()"
   ]
  },
  {
   "cell_type": "code",
   "execution_count": 8,
   "metadata": {},
   "outputs": [],
   "source": [
    "# Dataset: datos_tarjetas\n",
    "\n",
    "reporte = dt.show(datos)\n",
    "reporte.open_browser()"
   ]
  },
  {
   "cell_type": "markdown",
   "metadata": {},
   "source": [
    "----\n",
    "\n",
    "##### Gráficos de interés"
   ]
  },
  {
   "cell_type": "code",
   "execution_count": null,
   "metadata": {},
   "outputs": [],
   "source": [
    "plt.figure(figsize=(7,5))\n",
    "sns.countplot(y=df_creditos['objetivo_credito'], order=df_creditos['objetivo_credito'].value_counts().index)\n",
    "plt.show()"
   ]
  }
 ],
 "metadata": {
  "kernelspec": {
   "display_name": "Python 3",
   "language": "python",
   "name": "python3"
  },
  "language_info": {
   "codemirror_mode": {
    "name": "ipython",
    "version": 3
   },
   "file_extension": ".py",
   "mimetype": "text/x-python",
   "name": "python",
   "nbconvert_exporter": "python",
   "pygments_lexer": "ipython3",
   "version": "3.11.9"
  }
 },
 "nbformat": 4,
 "nbformat_minor": 2
}
